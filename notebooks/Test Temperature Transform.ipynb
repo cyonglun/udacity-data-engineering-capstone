{
 "cells": [
  {
   "cell_type": "code",
   "execution_count": 1,
   "metadata": {
    "editable": true
   },
   "outputs": [],
   "source": [
    "import re\n",
    "import boto3\n",
    "\n",
    "from pyspark.sql.types import DateType\n",
    "from pyspark.sql.functions import udf, year, month\n",
    "from pyspark.sql.types import *\n",
    "from datetime import datetime"
   ]
  },
  {
   "cell_type": "code",
   "execution_count": 2,
   "metadata": {
    "editable": true
   },
   "outputs": [],
   "source": [
    "from pyspark.sql import SparkSession\n",
    "spark = SparkSession.builder.\\\n",
    "    config(\"spark.jars.packages\",\"saurfang:spark-sas7bdat:2.0.0-s_2.11\")\\\n",
    "    .enableHiveSupport().getOrCreate()"
   ]
  },
  {
   "cell_type": "code",
   "execution_count": 3,
   "metadata": {
    "editable": true
   },
   "outputs": [],
   "source": [
    "def parse_datetime(x):\n",
    "    try:\n",
    "        # Try parse yyyy-MM-dd\n",
    "        return datetime.strptime(x, \"%Y-%m-%d\")\n",
    "    except:\n",
    "        try:\n",
    "            # Try parse dd-MM-yy\n",
    "            return datetime.strptime(x, \"%d-%m-%y\")\n",
    "        except:\n",
    "            return None\n",
    "udf_parse_datetime = udf(lambda x: parse_datetime(x), DateType())\n",
    "\n",
    "def map_country(city):\n",
    "    for key, value in valid_city.items():\n",
    "        if city.lower() == value.lower():\n",
    "            return key\n",
    "udf_map_country = udf(lambda x : map_country(x), StringType())"
   ]
  },
  {
   "cell_type": "code",
   "execution_count": 4,
   "metadata": {
    "editable": true
   },
   "outputs": [],
   "source": [
    "filepath = \"../../data2/GlobalLandTemperaturesByCity.csv\"\n",
    "\n",
    "bucket_name = 'yonglun-udacity-capstone'\n",
    "\n",
    "sas_description_filekey = 'raw/I94_SAS_Labels_Descriptions.SAS'\n",
    "sas_description_filename = '/tmp/I94_SAS_Labels_Descriptions.SAS'"
   ]
  },
  {
   "cell_type": "code",
   "execution_count": 5,
   "metadata": {
    "editable": true
   },
   "outputs": [],
   "source": [
    "# Load\n",
    "raw_temp_df = spark.read.format(\"csv\").option(\"header\", \"true\").load(filepath)"
   ]
  },
  {
   "cell_type": "code",
   "execution_count": 6,
   "metadata": {
    "editable": true
   },
   "outputs": [],
   "source": [
    "#Parse Data Labels\n",
    "# S3 client\n",
    "s3 = boto3.resource('s3',\n",
    "                    region_name=\"us-west-2\",\n",
    "                    aws_access_key_id='<aw access key>',\n",
    "                    aws_secret_access_key='<aws secret key>',\n",
    ")"
   ]
  },
  {
   "cell_type": "code",
   "execution_count": 7,
   "metadata": {
    "editable": true
   },
   "outputs": [],
   "source": [
    "# Get Label Descriptions File\n",
    "s3.Bucket(bucket_name).download_file(sas_description_filekey, sas_description_filename)\n",
    "\n",
    "with open(sas_description_filename) as header_file:\n",
    "    lines = header_file.readlines()\n",
    "\n",
    "    # valid_city: Line 10 to 298\n",
    "    # valid_city len: 289\n",
    "    city_regex = re.compile(r'([0-9]+)(.*)(\\'.*\\')(\\s\\;)?')\n",
    "    valid_city = {}\n",
    "    for line in lines[9:298]:\n",
    "        match_groups = city_regex.search(line)\n",
    "        valid_city[int(match_groups.group(1))] = match_groups.group(3).strip('\\'')"
   ]
  },
  {
   "cell_type": "code",
   "execution_count": 9,
   "metadata": {
    "editable": true
   },
   "outputs": [],
   "source": [
    "#from pprint import pprint\n",
    "#print(len(valid_city))\n",
    "#pprint(valid_city)"
   ]
  },
  {
   "cell_type": "code",
   "execution_count": 10,
   "metadata": {
    "editable": true
   },
   "outputs": [],
   "source": [
    "# Clean\n",
    "cleaned_temp_df = raw_temp_df\\\n",
    "    .filter(raw_temp_df.AverageTemperature.isNotNull())\\\n",
    "    .filter(raw_temp_df.AverageTemperatureUncertainty.isNotNull())\\"
   ]
  },
  {
   "cell_type": "code",
   "execution_count": 11,
   "metadata": {
    "editable": true
   },
   "outputs": [],
   "source": [
    "# Transform\n",
    "transformed_temp_df = cleaned_temp_df\\\n",
    "    .select(\"dt\",\n",
    "            \"AverageTemperature\",\n",
    "            \"AverageTemperatureUncertainty\",\n",
    "            \"City\",\n",
    "            \"Country\",\n",
    "            \"Latitude\",\n",
    "            \"Longitude\")\\\n",
    "    .withColumn(\"dt\", udf_parse_datetime(\"dt\"))\\\n",
    "    .withColumnRenamed(\"AverageTemperature\", \"avg_temp\")\\\n",
    "    .withColumnRenamed(\"AverageTemperatureUncertainty\", \"avg_temp_uncertainty\")\\\n",
    "    .withColumn(\"city_code\", udf_map_country(\"country\"))\\\n",
    "    .withColumnRenamed(\"City\", \"city\")\\\n",
    "    .withColumnRenamed(\"Country\", \"country\")\\\n",
    "    .withColumnRenamed(\"Latitude\", \"latitude\")\\\n",
    "    .withColumnRenamed(\"Longitude\", \"longitude\")\\\n",
    "    .withColumnRenamed(\"dt\", \"date_time\")\\\n",
    "    .withColumn('month', month('date_time')) \\\n",
    "    .withColumn('year', year('date_time')) \\\n",
    "    \n",
    "transformed_temp_df = transformed_temp_df.filter(transformed_temp_df.city_code != 'null')"
   ]
  },
  {
   "cell_type": "code",
   "execution_count": 12,
   "metadata": {
    "editable": true
   },
   "outputs": [
    {
     "name": "stdout",
     "output_type": "stream",
     "text": [
      "+----------+-------------------+--------------------+-----+-------+--------+---------+---------+-----+----+\n",
      "| date_time|           avg_temp|avg_temp_uncertainty| city|country|latitude|longitude|city_code|month|year|\n",
      "+----------+-------------------+--------------------+-----+-------+--------+---------+---------+-----+----+\n",
      "|2001-01-01| 1.9180000000000001|               0.381|Århus|Denmark|  57.05N|   10.33E|      108|    1|2001|\n",
      "|2001-02-01|0.24100000000000002| 0.32799999999999996|Århus|Denmark|  57.05N|   10.33E|      108|    2|2001|\n",
      "|2001-03-01|               1.31| 0.23600000000000002|Århus|Denmark|  57.05N|   10.33E|      108|    3|2001|\n",
      "|2001-04-01|               5.89|               0.158|Århus|Denmark|  57.05N|   10.33E|      108|    4|2001|\n",
      "|2001-05-01| 12.015999999999998| 0.35100000000000003|Århus|Denmark|  57.05N|   10.33E|      108|    5|2001|\n",
      "|2001-06-01|             13.944| 0.35200000000000004|Århus|Denmark|  57.05N|   10.33E|      108|    6|2001|\n",
      "|2001-07-01| 18.453000000000007| 0.36700000000000005|Århus|Denmark|  57.05N|   10.33E|      108|    7|2001|\n",
      "|2001-08-01| 17.395999999999994|               0.287|Århus|Denmark|  57.05N|   10.33E|      108|    8|2001|\n",
      "|2001-09-01|             13.206|               0.207|Århus|Denmark|  57.05N|   10.33E|      108|    9|2001|\n",
      "|2001-10-01| 11.732000000000001|                 0.2|Århus|Denmark|  57.05N|   10.33E|      108|   10|2001|\n",
      "+----------+-------------------+--------------------+-----+-------+--------+---------+---------+-----+----+\n",
      "only showing top 10 rows\n",
      "\n"
     ]
    }
   ],
   "source": [
    "year2000onwards = transformed_temp_df.filter(transformed_temp_df.year > 2000)\n",
    "year2000onwards.show(10)"
   ]
  },
  {
   "cell_type": "code",
   "execution_count": null,
   "metadata": {
    "editable": true
   },
   "outputs": [],
   "source": [
    "# Write\n",
    "# transformed_temp_df.write\\\n",
    "#     .partitionBy(\"year\", \"month\")\\\n",
    "#     .mode(\"append\")\\\n",
    "#     .parquet(\"{}/transformed/temperature/\".format(s3_bucket_name))"
   ]
  }
 ],
 "metadata": {
  "kernelspec": {
   "display_name": "Python 3",
   "language": "python",
   "name": "python3"
  },
  "language_info": {
   "codemirror_mode": {
    "name": "ipython",
    "version": 3
   },
   "file_extension": ".py",
   "mimetype": "text/x-python",
   "name": "python",
   "nbconvert_exporter": "python",
   "pygments_lexer": "ipython3",
   "version": "3.6.3"
  }
 },
 "nbformat": 4,
 "nbformat_minor": 4
}
