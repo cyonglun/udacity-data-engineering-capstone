{
 "cells": [
  {
   "cell_type": "code",
   "execution_count": 1,
   "metadata": {
    "editable": true
   },
   "outputs": [],
   "source": [
    "import configparser\n",
    "\n",
    "config = configparser.ConfigParser()\n",
    "config.read_file(open('dwh.cfg'))"
   ]
  },
  {
   "cell_type": "code",
   "execution_count": 2,
   "metadata": {
    "editable": true
   },
   "outputs": [],
   "source": [
    "ACCESS_KEY = config.get('AWS','KEY')\n",
    "SECRET_KEY = config.get('AWS','SECRET')\n",
    "# os.environ[\"AWS_ACCESS_KEY_ID\"] = config.get('AWS','KEY')\n",
    "# os.environ[\"AWS_SECRET_ACCESS_KEY\"] = config.get('AWS','SECRET')\n",
    "# print(ACCESS_KEY)\n",
    "# print(SECRET_KEY)"
   ]
  },
  {
   "cell_type": "code",
   "execution_count": 3,
   "metadata": {
    "editable": true
   },
   "outputs": [],
   "source": [
    "import os\n",
    "import glob\n",
    "\n",
    "def get_files(filepath):\n",
    "    all_files = []\n",
    "    for root, dirs, files in os.walk(filepath):\n",
    "        files = glob.glob(os.path.join(root,'*.sas7bdat'))\n",
    "        for f in files :\n",
    "            all_files.append(os.path.abspath(f))\n",
    "    \n",
    "    return all_files\n",
    "\n"
   ]
  },
  {
   "cell_type": "code",
   "execution_count": 4,
   "metadata": {
    "editable": true
   },
   "outputs": [],
   "source": [
    "import boto3\n",
    "\n",
    "s3 = boto3.client(\n",
    "    's3',\n",
    "    aws_access_key_id=ACCESS_KEY,\n",
    "    aws_secret_access_key=SECRET_KEY,\n",
    "    region_name='us-west-2'\n",
    ")\n",
    "# s3 = boto3.client('s3')\n",
    "bucket_name = 'yonglun-udacity-capstone'"
   ]
  },
  {
   "cell_type": "code",
   "execution_count": 6,
   "metadata": {
    "editable": true
   },
   "outputs": [],
   "source": [
    "# Upload I94_SAS_Labels_Descriptions.sas\n",
    "sas_label_filepath = \"I94_SAS_Labels_Descriptions.SAS\"\n",
    "\n",
    "s3.upload_file(sas_label_filepath, bucket_name, \"raw/\" + sas_label_filepath)"
   ]
  },
  {
   "cell_type": "code",
   "execution_count": 9,
   "metadata": {
    "editable": true
   },
   "outputs": [],
   "source": [
    "# Upload all I94 Immigration Data files for 2016\n",
    "sas_filepath = \"../../data/18-83510-I94-Data-2016/\"\n",
    "files = get_files(sas_filepath)\n",
    "for file in files:\n",
    "    file_name = file.split(\"/\")[-1]\n",
    "    s3.upload_file(file, bucket_name, \"raw/i94_immigration_data/\" + file_name)"
   ]
  },
  {
   "cell_type": "code",
   "execution_count": 10,
   "metadata": {
    "editable": true
   },
   "outputs": [],
   "source": [
    "# Upload all Temperature data file\n",
    "global_temp_filepath = \"../../data2/GlobalLandTemperaturesByCity.csv\"\n",
    "file_name = global_temp_filepath.split(\"/\")[-1]\n",
    "s3.upload_file(global_temp_filepath, bucket_name, \"raw/global_temperature/\" + file_name)"
   ]
  },
  {
   "cell_type": "code",
   "execution_count": null,
   "metadata": {
    "editable": true
   },
   "outputs": [],
   "source": []
  }
 ],
 "metadata": {
  "kernelspec": {
   "display_name": "Python 3",
   "language": "python",
   "name": "python3"
  },
  "language_info": {
   "codemirror_mode": {
    "name": "ipython",
    "version": 3
   },
   "file_extension": ".py",
   "mimetype": "text/x-python",
   "name": "python",
   "nbconvert_exporter": "python",
   "pygments_lexer": "ipython3",
   "version": "3.6.3"
  }
 },
 "nbformat": 4,
 "nbformat_minor": 4
}
