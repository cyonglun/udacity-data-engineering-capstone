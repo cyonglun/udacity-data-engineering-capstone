{
 "cells": [
  {
   "cell_type": "code",
   "execution_count": 1,
   "metadata": {
    "editable": true
   },
   "outputs": [],
   "source": [
    "import re\n",
    "import boto3\n",
    "\n",
    "from pyspark.sql.types import *\n",
    "from pyspark.sql.functions import udf, col\n",
    "from pyspark.sql.types import *\n",
    "from datetime import datetime, timedelta"
   ]
  },
  {
   "cell_type": "code",
   "execution_count": 2,
   "metadata": {
    "editable": true
   },
   "outputs": [],
   "source": [
    "from pyspark.sql import SparkSession\n",
    "spark = SparkSession.builder.\\\n",
    "    config(\"spark.jars.packages\",\"saurfang:spark-sas7bdat:2.0.0-s_2.11\")\\\n",
    "    .enableHiveSupport().getOrCreate()"
   ]
  },
  {
   "cell_type": "code",
   "execution_count": 3,
   "metadata": {
    "editable": true
   },
   "outputs": [],
   "source": [
    "bucket_name = 'yonglun-udacity-capstone'\n",
    "s3_bucket_name = 's3://yonglun-udacity-capstone'\n",
    "\n",
    "sas_description_filekey = 'raw/I94_SAS_Labels_Descriptions.SAS'\n",
    "sas_description_filename = '/tmp/I94_SAS_Labels_Descriptions.SAS'"
   ]
  },
  {
   "cell_type": "code",
   "execution_count": 4,
   "metadata": {
    "editable": true
   },
   "outputs": [],
   "source": [
    "def sas_to_datetime(x):\n",
    "    try:\n",
    "        base_date = datetime(1960, 1, 1)\n",
    "        return base_date + timedelta(days=int(x))\n",
    "    except:\n",
    "        return None\n",
    "udf_sas_to_datetime = udf(lambda x: sas_to_datetime(x), DateType())"
   ]
  },
  {
   "cell_type": "code",
   "execution_count": 5,
   "metadata": {
    "editable": true
   },
   "outputs": [],
   "source": [
    "#Parse Data Labels\n",
    "# S3 client\n",
    "s3 = boto3.resource('s3',\n",
    "                    region_name=\"us-west-2\",\n",
    "                    aws_access_key_id='<aw access key>',\n",
    "                    aws_secret_access_key='<aws secret key>',\n",
    ")"
   ]
  },
  {
   "cell_type": "code",
   "execution_count": 6,
   "metadata": {
    "editable": true
   },
   "outputs": [],
   "source": [
    "# Get Label Descriptions File\n",
    "s3.Bucket(bucket_name).download_file(sas_description_filekey, sas_description_filename)\n",
    "\n",
    "with open(sas_description_filename) as header_file:\n",
    "    lines = header_file.readlines()\n",
    "\n",
    "    # valid_city: Line 10 to 298\n",
    "    # valid_city len: 289\n",
    "    city_regex = re.compile(r'([0-9]+)(.*)(\\'.*\\')(\\s\\;)?')\n",
    "    valid_city = {}\n",
    "    for line in lines[9:298]:\n",
    "        match_groups = city_regex.search(line)\n",
    "        valid_city[int(match_groups.group(1))] = match_groups.group(3).strip('\\'')\n",
    "\n",
    "    # valid_port: Line 303 to 962\n",
    "    # valid_port len: 660\n",
    "    port_regex = re.compile(r'\\'(.+)\\'(.*=.*)\\'(.+)\\'')\n",
    "    valid_port = {}\n",
    "    for line in lines[302:962]:\n",
    "        match_groups = port_regex.search(line)\n",
    "        valid_port[match_groups.group(1)] = match_groups.group(3).strip()\n",
    "\n",
    "    # valid_addr: line 982 to 1036\n",
    "    # valid_addr len:\n",
    "    addr_regex = re.compile(r'\\'(.{2})\\'(.*=.*)\\'(.+)\\'')\n",
    "    valid_addr = {}\n",
    "    for line in lines[981:1036]:\n",
    "        match_groups = addr_regex.search(line)\n",
    "        valid_addr[match_groups.group(1)] = match_groups.group(3).strip()"
   ]
  },
  {
   "cell_type": "code",
   "execution_count": 7,
   "metadata": {
    "editable": true
   },
   "outputs": [],
   "source": [
    "#from pprint import pprint\n",
    "#print(len(valid_city))\n",
    "#pprint(valid_city)\n",
    "\n",
    "#print(len(valid_port))\n",
    "#pprint(valid_port)\n",
    "\n",
    "#print(len(valid_addr))\n",
    "#pprint(valid_addr)"
   ]
  },
  {
   "cell_type": "code",
   "execution_count": 8,
   "metadata": {
    "editable": true
   },
   "outputs": [],
   "source": [
    "month_year = \"apr16\"\n",
    "filepath = '../../data/18-83510-I94-Data-2016/i94_{}_sub.sas7bdat'.format(month_year)"
   ]
  },
  {
   "cell_type": "code",
   "execution_count": 9,
   "metadata": {
    "editable": true
   },
   "outputs": [],
   "source": [
    "# Load\n",
    "raw_immigration_df = spark.read.format('com.github.saurfang.sas.spark').load(filepath)"
   ]
  },
  {
   "cell_type": "code",
   "execution_count": 10,
   "metadata": {
    "editable": true
   },
   "outputs": [],
   "source": [
    "# Clean\n",
    "cleaned_immigration_df = raw_immigration_df\\\n",
    "    .filter(raw_immigration_df.i94port.isin(list(valid_port.keys()))) \\\n",
    "    .filter(raw_immigration_df.i94addr.isNotNull() & raw_immigration_df.i94addr.isin(list(valid_addr.keys())))\\\n",
    "    .filter(raw_immigration_df.i94cit.isin(list(valid_city.keys()))) \\\n",
    "    .filter(raw_immigration_df.i94mode != 'NaN') \\"
   ]
  },
  {
   "cell_type": "code",
   "execution_count": 11,
   "metadata": {
    "editable": true
   },
   "outputs": [],
   "source": [
    "# Transform\n",
    "transformed_immigration_df = cleaned_immigration_df\\\n",
    "    .selectExpr(\n",
    "        \"cast(cicid as int) id\",\n",
    "        \"cast(i94yr as int) year\",\n",
    "        \"cast(i94mon as int) month\",\n",
    "        \"cast(i94cit as int) AS city_code\",\n",
    "        \"i94port as port_code\",\n",
    "        \"i94addr as state_code\",\n",
    "        \"i94mode as arrival_mode\",\n",
    "        \"cast(i94bir as int) AS age\",\n",
    "        \"gender\",\n",
    "        \"cast(admnum as long) AS admission_no\",\n",
    "        \"visatype\",\n",
    "        \"arrdate\",\n",
    "        \"depdate\")\\\n",
    "    .withColumn(\"arrival_date\", udf_sas_to_datetime(\"arrdate\"))\\\n",
    "    .withColumn(\"departure_date\", udf_sas_to_datetime(\"depdate\"))"
   ]
  },
  {
   "cell_type": "code",
   "execution_count": 12,
   "metadata": {
    "editable": true
   },
   "outputs": [
    {
     "name": "stdout",
     "output_type": "stream",
     "text": [
      "+---+----+-----+---------+---------+----------+------------+---+------+------------+--------+-------+-------+------------+--------------+\n",
      "| id|year|month|city_code|port_code|state_code|arrival_mode|age|gender|admission_no|visatype|arrdate|depdate|arrival_date|departure_date|\n",
      "+---+----+-----+---------+---------+----------+------------+---+------+------------+--------+-------+-------+------------+--------------+\n",
      "| 15|2016|    4|      101|      WAS|        MI|         1.0| 55|     M|   666643185|      B2|20545.0|20691.0|  2016-04-01|    2016-08-25|\n",
      "| 16|2016|    4|      101|      NYC|        MA|         1.0| 28|  null| 92468461330|      B2|20545.0|20567.0|  2016-04-01|    2016-04-23|\n",
      "| 17|2016|    4|      101|      NYC|        MA|         1.0|  4|  null| 92468463130|      B2|20545.0|20567.0|  2016-04-01|    2016-04-23|\n",
      "| 18|2016|    4|      101|      NYC|        MI|         1.0| 57|  null| 92471038030|      B1|20545.0|20555.0|  2016-04-01|    2016-04-11|\n",
      "| 19|2016|    4|      101|      NYC|        NJ|         1.0| 63|  null| 92471399230|      B2|20545.0|20558.0|  2016-04-01|    2016-04-14|\n",
      "| 20|2016|    4|      101|      NYC|        NJ|         1.0| 57|  null| 92471613830|      B2|20545.0|20558.0|  2016-04-01|    2016-04-14|\n",
      "| 21|2016|    4|      101|      NYC|        NY|         1.0| 46|  null| 92470796030|      B2|20545.0|20553.0|  2016-04-01|    2016-04-09|\n",
      "| 22|2016|    4|      101|      NYC|        NY|         1.0| 48|  null| 92478489730|      B1|20545.0|20562.0|  2016-04-01|    2016-04-18|\n",
      "| 23|2016|    4|      101|      NYC|        NY|         1.0| 52|  null| 92501394430|      B2|20545.0|20671.0|  2016-04-01|    2016-08-05|\n",
      "| 24|2016|    4|      101|      TOR|        MO|         1.0| 33|  null| 92490905030|      B2|20545.0|20554.0|  2016-04-01|    2016-04-10|\n",
      "+---+----+-----+---------+---------+----------+------------+---+------+------------+--------+-------+-------+------------+--------------+\n",
      "only showing top 10 rows\n",
      "\n"
     ]
    }
   ],
   "source": [
    "# Write\n",
    "# transformed_immigration_df.write\\\n",
    "#     .partitionBy(\"year\", \"month\")\\\n",
    "#     .mode(\"append\")\\\n",
    "#     .parquet(\"{}/transformed/immigration/\".format(s3_bucket_name))\n",
    "\n",
    "transformed_immigration_df.show(10)"
   ]
  },
  {
   "cell_type": "code",
   "execution_count": null,
   "metadata": {
    "editable": true
   },
   "outputs": [],
   "source": []
  }
 ],
 "metadata": {
  "kernelspec": {
   "display_name": "Python 3",
   "language": "python",
   "name": "python3"
  },
  "language_info": {
   "codemirror_mode": {
    "name": "ipython",
    "version": 3
   },
   "file_extension": ".py",
   "mimetype": "text/x-python",
   "name": "python",
   "nbconvert_exporter": "python",
   "pygments_lexer": "ipython3",
   "version": "3.6.3"
  },
  "pycharm": {
   "stem_cell": {
    "cell_type": "raw",
    "source": [],
    "metadata": {
     "collapsed": false
    }
   }
  }
 },
 "nbformat": 4,
 "nbformat_minor": 4
}